{
 "cells": [
  {
   "cell_type": "code",
   "execution_count": 5,
   "metadata": {},
   "outputs": [],
   "source": [
    "import numpy as np"
   ]
  },
  {
   "cell_type": "code",
   "execution_count": 6,
   "metadata": {},
   "outputs": [],
   "source": [
    "class KNN():\n",
    "    def __init__(self, name):\n",
    "        pass\n",
    "\n",
    "    def predictKnn(testSet, trDataSet, trLabelDataSet, normOption, k):\n",
    "        numTest = testSet.shape[0]\n",
    "        labelsPredicted = np.zeros(numTest, dtype=trLabelDataSet.dtype)\n",
    "        testSet = testSet.astype(int)\n",
    "\n",
    "        for i in range(numTest):\n",
    "            if (normOption == 1):\n",
    "                # L1 Norm\n",
    "                distances = np.sum(np.abs(trDataSet-testSet[i, :]), axis=1)\n",
    "            if (normOption == 2):\n",
    "                # L2 Norm\n",
    "                distances = np.sqrt(\n",
    "                    np.sum(np.square(np.abs(trDataSet-testSet[i, :])), axis=1))\n",
    "            labelPredVoting = np.zeros(10)\n",
    "            minIndex = 0   # used in case of tie\n",
    "            for j in range(k):\n",
    "                min = np.argmin(distances)\n",
    "                if j == 0:\n",
    "                    minIndex = min\n",
    "                distances = distances.astype(float)\n",
    "                np.put(distances, min, np.inf)\n",
    "                labelPredVoting[trLabelDataSet[min]] += 1\n",
    "\n",
    "            votes = np.sort(labelPredVoting)\n",
    "            tie = False\n",
    "            for j in range(len(votes)-2, 0, -1):\n",
    "                if labelPredVoting[j] == votes[len(votes) - 1]:\n",
    "                    tie = True\n",
    "\n",
    "            # if tie choose the label with closest distance\n",
    "            if tie:\n",
    "                winner = trLabelDataSet[minIndex]\n",
    "            else:\n",
    "                winner = np.argmax(labelPredVoting)\n",
    "\n",
    "            labelsPredicted[i] = winner\n",
    "        return labelsPredicted"
   ]
  },
  {
   "cell_type": "code",
   "execution_count": null,
   "metadata": {},
   "outputs": [],
   "source": [
    "def killme():\n",
    "    print(\"hello\")"
   ]
  }
 ],
 "metadata": {
  "kernelspec": {
   "display_name": "Python 3.9.13 ('base')",
   "language": "python",
   "name": "python3"
  },
  "language_info": {
   "codemirror_mode": {
    "name": "ipython",
    "version": 3
   },
   "file_extension": ".py",
   "mimetype": "text/x-python",
   "name": "python",
   "nbconvert_exporter": "python",
   "pygments_lexer": "ipython3",
   "version": "3.9.13"
  },
  "orig_nbformat": 4,
  "vscode": {
   "interpreter": {
    "hash": "12a63bcd6ab24a17fb26f32edd2d5a81e3b51537583342a2d9b8330693076d64"
   }
  }
 },
 "nbformat": 4,
 "nbformat_minor": 2
}
